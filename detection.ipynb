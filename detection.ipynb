{
 "cells": [
  {
   "cell_type": "code",
   "execution_count": 1,
   "metadata": {},
   "outputs": [
    {
     "name": "stdout",
     "output_type": "stream",
     "text": [
      "Training Data shape:  (125973, 43)\n",
      "Test Data shape: (22543, 43)\n"
     ]
    }
   ],
   "source": [
    "\"\"\"\n",
    "Author: Akankshya Mohanty\n",
    "Mentor & Reviewer: Rajani Vanarse\n",
    "#*******************************************************************\n",
    "#Copyright (C) 2023 Adino Labs\n",
    "#*******************************************************************\n",
    "\"\"\"\n",
    "#############Load train and test data--- Declare Column Names####################\n",
    "\n",
    "import pandas as pd\n",
    "import numpy as np\n",
    "\n",
    "data = pd.read_csv(\"KDD-train-full.csv\")\n",
    "test_data = pd.read_csv(\"KDD-test-full.csv\")\n",
    "\n",
    "col_names = np.array([\"duration\",\"protocol_type\",\"service\",\"flag\",\"src_bytes\",\n",
    "    \"dst_bytes\",\"land\",\"wrong_fragment\",\"urgent\",\"hot\",\"num_failed_logins\",\n",
    "    \"logged_in\",\"num_compromised\",\"root_shell\",\"su_attempted\",\"num_root\",\n",
    "    \"num_file_creations\",\"num_shells\",\"num_access_files\",\"num_outbound_cmds\",\n",
    "    \"is_host_login\",\"is_guest_login\",\"count\",\"srv_count\",\"serror_rate\",\n",
    "    \"srv_serror_rate\",\"rerror_rate\",\"srv_rerror_rate\",\"same_srv_rate\",\n",
    "    \"diff_srv_rate\",\"srv_diff_host_rate\",\"dst_host_count\",\"dst_host_srv_count\",\n",
    "    \"dst_host_same_srv_rate\",\"dst_host_diff_srv_rate\",\"dst_host_same_src_port_rate\",\n",
    "    \"dst_host_srv_diff_host_rate\",\"dst_host_serror_rate\",\"dst_host_srv_serror_rate\",\n",
    "    \"dst_host_rerror_rate\",\"dst_host_srv_rerror_rate\",\"labels\",\"count\"])\n",
    "\n",
    "nominal_inx = [1, 2, 3]\n",
    "binary_inx = [6, 11, 13, 14, 20, 21]\n",
    "numeric_inx = list(set(range(41)).difference(nominal_inx).difference(binary_inx))\n",
    "\n",
    "nominal_cols = col_names[nominal_inx].tolist()\n",
    "binary_cols = col_names[binary_inx].tolist()\n",
    "numeric_cols = col_names[numeric_inx].tolist()\n",
    "\n",
    "print(\"Training Data shape: \", data.shape)\n",
    "print(\"Test Data shape:\", test_data.shape)\n",
    "\n"
   ]
  },
  {
   "cell_type": "code",
   "execution_count": 2,
   "metadata": {
    "collapsed": true
   },
   "outputs": [],
   "source": [
    "###########################Create attack dictionary Mapping attack type to four major attack categories##########\n",
    "\n",
    "attack_dict = {\n",
    "    'normal': 'normal',\n",
    "    \n",
    "    'back': 'DoS',\n",
    "    'land': 'DoS',\n",
    "    'neptune': 'DoS',\n",
    "    'pod': 'DoS',\n",
    "    'smurf': 'DoS',\n",
    "    'teardrop': 'DoS',\n",
    "    'mailbomb': 'DoS',\n",
    "    'apache2': 'DoS',\n",
    "    'processtable': 'DoS',\n",
    "    'udpstorm': 'DoS',\n",
    "    \n",
    "    'ipsweep': 'Probe',\n",
    "    'nmap': 'Probe',\n",
    "    'portsweep': 'Probe',\n",
    "    'satan': 'Probe',\n",
    "    'mscan': 'Probe',\n",
    "    'saint': 'Probe',\n",
    "\n",
    "    'ftp_write': 'R2L',\n",
    "    'guess_passwd': 'R2L',\n",
    "    'imap': 'R2L',\n",
    "    'multihop': 'R2L',\n",
    "    'phf': 'R2L',\n",
    "    'spy': 'R2L',\n",
    "    'warezclient': 'R2L',\n",
    "    'warezmaster': 'R2L',\n",
    "    'sendmail': 'R2L',\n",
    "    'named': 'R2L',\n",
    "    'snmpgetattack': 'R2L',\n",
    "    'snmpguess': 'R2L',\n",
    "    'xlock': 'R2L',\n",
    "    'xsnoop': 'R2L',\n",
    "    'worm': 'R2L',\n",
    "    \n",
    "    'buffer_overflow': 'U2R',\n",
    "    'loadmodule': 'U2R',\n",
    "    'perl': 'U2R',\n",
    "    'rootkit': 'U2R',\n",
    "    'httptunnel': 'U2R',\n",
    "    'ps': 'U2R',    \n",
    "    'sqlattack': 'U2R',\n",
    "    'xterm': 'U2R'\n",
    "}"
   ]
  },
  {
   "cell_type": "code",
   "execution_count": 3,
   "metadata": {},
   "outputs": [
    {
     "name": "stdout",
     "output_type": "stream",
     "text": [
      "Train data shape: (125973, 44)\n",
      "Test data shape: (22543, 44)\n"
     ]
    }
   ],
   "source": [
    "############################## Create function which maps attack type to 4 defined categories for each record#################\n",
    "\n",
    "def create_attack_label(row):\n",
    "    return attack_dict[row['labels']]\n",
    "\n",
    "#############Convert labels in train and test data to new labels####################\n",
    "\n",
    "data['label5'] = data.apply(lambda x : create_attack_label(x), axis = 1)\n",
    "\n",
    "test_data['label5'] = test_data.apply(lambda x : create_attack_label(x), axis = 1)\n",
    "\n",
    "print(\"Train data shape:\", data.shape)\n",
    "print(\"Test data shape:\", test_data.shape)"
   ]
  },
  {
   "cell_type": "code",
   "execution_count": 4,
   "metadata": {},
   "outputs": [
    {
     "name": "stdout",
     "output_type": "stream",
     "text": [
      "        count\n",
      "label5       \n",
      "DoS     45927\n",
      "Probe   11656\n",
      "R2L       995\n",
      "U2R        52\n",
      "normal  67343\n",
      "        count\n",
      "label5       \n",
      "DoS      7458\n",
      "Probe    2421\n",
      "R2L      2754\n",
      "U2R       200\n",
      "normal   9710\n"
     ]
    }
   ],
   "source": [
    "############### Check data distribution across labels in train and test data ########################\n",
    "\n",
    "print(data.groupby('label5').agg({'count':'count'}))\n",
    "print(test_data.groupby('label5').agg({'count':'count'}))"
   ]
  },
  {
   "cell_type": "code",
   "execution_count": 5,
   "metadata": {},
   "outputs": [
    {
     "data": {
      "image/png": "[encoded data removed]",
      "text/plain": [
       "<matplotlib.figure.Figure at 0x177a66d8>"
      ]
     },
     "metadata": {},
     "output_type": "display_data"
    }
   ],
   "source": [
    "########### Check visual data distribution ######################\n",
    "\n",
    "from IPython import get_ipython\n",
    "get_ipython().run_line_magic('matplotlib', 'inline')\n",
    "###########################################\n",
    "\n",
    "import matplotlib.pyplot as pl\n",
    "import matplotlib.patches as mpatches\n",
    "from mpl_toolkits.axes_grid1 import make_axes_locatable\n",
    "\n",
    "ax = data.groupby(\"label5\").agg({'count':'count'}).sort_values(by = 'count',ascending=False).plot(kind='bar')\n",
    "ax.set_xlabel(\"Network Communication Type\")\n",
    "ax.set_ylabel(\"Number of Records\")\n",
    "for p in ax.patches:\n",
    "    ax.annotate(str(p.get_height()), (p.get_x() * 1.005, p.get_height() * 1.005))"
   ]
  },
  {
   "cell_type": "code",
   "execution_count": 6,
   "metadata": {},
   "outputs": [
    {
     "data": {
      "image/png": "[encoded data removed]",
      "text/plain": [
       "<matplotlib.figure.Figure at 0x177d1550>"
      ]
     },
     "metadata": {},
     "output_type": "display_data"
    }
   ],
   "source": [
    "################## Plot correlation metrics #################\n",
    "\n",
    "correlations = pd.DataFrame()\n",
    "correlations = data.corr()\n",
    "\n",
    "# plot correlation matrix\n",
    "fig = pl.figure(figsize=(10,10))\n",
    "ax1 = pl.gca()\n",
    "\n",
    "im = ax1.imshow(np.arange(100).reshape((10,10)))\n",
    "cax = ax1.matshow(correlations, vmin=-1, vmax=1)\n",
    "divider = make_axes_locatable(ax1)\n",
    "cax = divider.append_axes(\"right\", size=\"5%\", pad=0.05)\n",
    "fig.colorbar(im,cax)\n",
    "ticks = np.arange(0,41,1)\n",
    "ax1.set_xticks(ticks)\n",
    "ax1.set_yticks(ticks)\n",
    "\n",
    "# X axis tick labels are not set as the plot looks clumpsy\n",
    "ax1.set_yticklabels(col_names)\n",
    "pl.show()"
   ]
  },
  {
   "cell_type": "code",
   "execution_count": 7,
   "metadata": {},
   "outputs": [],
   "source": [
    "######################### Pre-process training and testing data ##############################\n",
    "from sklearn import preprocessing\n",
    "from sklearn.decomposition import PCA\n",
    "from sklearn.preprocessing import LabelEncoder,MinMaxScaler\n",
    "from sklearn.ensemble import RandomForestClassifier\n",
    "from sklearn.metrics import accuracy_score\n",
    "from imblearn.over_sampling import SMOTE\n",
    "from sklearn.metrics import classification_report\n",
    "\n",
    "\n",
    "###################### Extract labels and features from train and test data ###################\n",
    "\n",
    "labels_raw = data['label5']\n",
    "features_raw = data.drop(['labels','count','label5'],axis=1)\n",
    "\n",
    "labels_test_raw = test_data['label5']\n",
    "features_test_raw = test_data.drop(['labels','count','label5'],axis=1)\n",
    "\n",
    "\n",
    "#################### Convert categorical features to numeric using LabelEncoder ##################\n",
    "\n",
    "encoder = LabelEncoder()\n",
    "features_transformed = pd.DataFrame(features_raw)\n",
    "features_test_transformed = pd.DataFrame(features_test_raw)\n",
    "\n",
    "for column in nominal_cols:\n",
    "    features_transformed[column] = encoder.fit_transform(features_transformed[column])\n",
    "    features_test_transformed[column] = encoder.transform(features_test_transformed[column])\n"
   ]
  },
  {
   "cell_type": "code",
   "execution_count": 9,
   "metadata": {},
   "outputs": [
    {
     "name": "stdout",
     "output_type": "stream",
     "text": [
      "Resmapled shape: (336715, 41)\n"
     ]
    }
   ],
   "source": [
    "##################### apply resampling using SMOTE #########################\n",
    "\n",
    "sm = SMOTE(k_neighbors = 50)\n",
    "features_resampled, labels_resampled = sm.fit_sample(features_transformed,labels_raw)\n",
    "print(\"Resmapled shape:\",features_resampled.shape)"
   ]
  },
  {
   "cell_type": "code",
   "execution_count": 10,
   "metadata": {},
   "outputs": [
    {
     "name": "stdout",
     "output_type": "stream",
     "text": [
      "Reduced feature shape: (336715, 12)\n"
     ]
    }
   ],
   "source": [
    "##################### Apply PCA to transofrm correlated features and select 12 features ############\n",
    "\n",
    "pca = PCA(n_components=12)\n",
    "features_reduced = pca.fit_transform(features_resampled)\n",
    "features_test_reduced = pca.transform(features_test_transformed)\n",
    "print(\"Reduced feature shape:\",features_reduced.shape )"
   ]
  },
  {
   "cell_type": "code",
   "execution_count": 11,
   "metadata": {},
   "outputs": [
    {
     "name": "stdout",
     "output_type": "stream",
     "text": [
      "Normalization done\n"
     ]
    }
   ],
   "source": [
    "################## Apply MinMaxScaler to normalize data #####################\n",
    "\n",
    "scaler = MinMaxScaler()\n",
    "features_scaled = scaler.fit_transform(features_reduced)\n",
    "features_test_scaled = scaler.transform(features_test_reduced)\n",
    "print(\"Normalization done\")"
   ]
  },
  {
   "cell_type": "code",
   "execution_count": 13,
   "metadata": {},
   "outputs": [
    {
     "name": "stdout",
     "output_type": "stream",
     "text": [
      "Label encoding done\n"
     ]
    }
   ],
   "source": [
    "#################### Encode Labels ###############################\n",
    "\n",
    "encoder.fit(labels_resampled)\n",
    "encoded_Y = encoder.transform(labels_resampled)\n",
    "encoded_Y_test = encoder.transform(labels_test_raw)\n",
    "print(\"Label encoding done\")"
   ]
  },
  {
   "cell_type": "code",
   "execution_count": 14,
   "metadata": {},
   "outputs": [
    {
     "name": "stdout",
     "output_type": "stream",
     "text": [
      "X train shape: (336715, 12)\n",
      "Y train shape: (336715,)\n",
      "X test shape: (22543, 12)\n",
      "Y test shape: (22543,)\n"
     ]
    }
   ],
   "source": [
    "################### Create final train and test data #####################\n",
    "X_train = np.array(features_scaled)\n",
    "y_train = encoded_Y\n",
    "print(\"X train shape:\",X_train.shape)\n",
    "print(\"Y train shape:\",y_train.shape)\n",
    "\n",
    "X_test = np.array(features_test_scaled)\n",
    "y_test = encoded_Y_test\n",
    "print(\"X test shape:\",X_test.shape)\n",
    "print(\"Y test shape:\",y_test.shape)"
   ]
  },
  {
   "cell_type": "code",
   "execution_count": 16,
   "metadata": {},
   "outputs": [
    {
     "name": "stdout",
     "output_type": "stream",
     "text": [
      "Score :  0.803930266602\n",
      "             precision    recall  f1-score   support\n",
      "\n",
      "     normal       0.96      0.80      0.87      7458\n",
      "        Dos       0.66      0.81      0.73      2421\n",
      "      Probe       0.82      0.27      0.41      2754\n",
      "        R2L       0.34      0.11      0.17       200\n",
      "        U2R       0.76      0.97      0.85      9710\n",
      "\n",
      "avg / total       0.82      0.80      0.79     22543\n",
      "\n"
     ]
    }
   ],
   "source": [
    "############## Train the RFC classifier and test performance ####################\n",
    "model = RandomForestClassifier(random_state=9,max_depth =28,n_estimators=100)\n",
    "model.fit(X_train,y_train)\n",
    "\n",
    "# Predict on test data\n",
    "predict = model.predict(X_test)\n",
    "\n",
    "#Evaluate score\n",
    "score = accuracy_score(y_test,predict)\n",
    "print(\"Score : \",score)\n",
    "\n",
    "#Print classification report for each label\n",
    "print(classification_report(y_test, predict,target_names =['normal','Dos','Probe','R2L','U2R']))\n"
   ]
  },
  {
   "cell_type": "code",
   "execution_count": null,
   "metadata": {
    "collapsed": true
   },
   "outputs": [],
   "source": []
  }
 ],
 "metadata": {
  "anaconda-cloud": {},
  "kernelspec": {
   "display_name": "Python 2",
   "language": "python",
   "name": "python2"
  },
  "language_info": {
   "codemirror_mode": {
    "name": "ipython",
    "version": 2
   },
   "file_extension": ".py",
   "mimetype": "text/x-python",
   "name": "python",
   "nbconvert_exporter": "python",
   "pygments_lexer": "ipython2",
   "version": "2.7.16"
  }
 },
 "nbformat": 4,
 "nbformat_minor": 2
}
